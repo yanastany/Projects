{
 "cells": [
  {
   "cell_type": "code",
   "execution_count": 50,
   "metadata": {
    "collapsed": true,
    "ExecuteTime": {
     "end_time": "2023-07-16T14:12:58.930533500Z",
     "start_time": "2023-07-16T14:12:58.906506900Z"
    }
   },
   "outputs": [],
   "source": [
    "import pandas as pd\n",
    "import numpy as np\n",
    "from sklearn.svm import SVC\n",
    "from sklearn.naive_bayes import MultinomialNB\n",
    "from sklearn import preprocessing\n",
    "from sklearn import kernel_ridge"
   ]
  },
  {
   "cell_type": "markdown",
   "source": [
    "Testul de train"
   ],
   "metadata": {
    "collapsed": false
   }
  },
  {
   "cell_type": "code",
   "execution_count": 67,
   "outputs": [
    {
     "name": "stdout",
     "output_type": "stream",
     "text": [
      "33600 42000\n"
     ]
    }
   ],
   "source": [
    "train = pd.read_csv('train.csv')\n",
    "label = train[\"label\"]\n",
    "X = train.drop(labels=[\"label\"], axis=1)\n",
    "\n",
    "n = len(label)\n",
    "number = int(n *80/100)\n",
    "print(number,n)"
   ],
   "metadata": {
    "collapsed": false,
    "ExecuteTime": {
     "end_time": "2023-07-16T14:21:19.844215100Z",
     "start_time": "2023-07-16T14:21:18.546218500Z"
    }
   }
  },
  {
   "cell_type": "code",
   "execution_count": 70,
   "outputs": [
    {
     "name": "stdout",
     "output_type": "stream",
     "text": [
      "33600    0\n",
      "33601    7\n",
      "33602    7\n",
      "33603    2\n",
      "33604    2\n",
      "        ..\n",
      "41995    0\n",
      "41996    1\n",
      "41997    7\n",
      "41998    6\n",
      "41999    9\n",
      "Name: label, Length: 8400, dtype: int64\n"
     ]
    }
   ],
   "source": [
    "xdef = X[:number]\n",
    "ydef = label[:number]\n",
    "xtest = X[number:]\n",
    "ytest = label[number:]\n",
    "print(ytest)"
   ],
   "metadata": {
    "collapsed": false,
    "ExecuteTime": {
     "end_time": "2023-07-16T14:22:11.575997200Z",
     "start_time": "2023-07-16T14:22:11.570993600Z"
    }
   }
  },
  {
   "cell_type": "code",
   "execution_count": 69,
   "outputs": [
    {
     "name": "stdout",
     "output_type": "stream",
     "text": [
      "0.8225\n"
     ]
    }
   ],
   "source": [
    "model = MultinomialNB()\n",
    "model.fit(xdef, ydef)\n",
    "test_predictions=model.predict(xtest)\n",
    "#print(test_predictions)\n",
    "acc=np.mean(test_predictions==ytest)\n",
    "print(acc)"
   ],
   "metadata": {
    "collapsed": false,
    "ExecuteTime": {
     "end_time": "2023-07-16T14:22:01.405003300Z",
     "start_time": "2023-07-16T14:22:00.903001900Z"
    }
   }
  },
  {
   "cell_type": "code",
   "execution_count": 28,
   "outputs": [
    {
     "name": "stdout",
     "output_type": "stream",
     "text": [
      "0.9772619047619048\n"
     ]
    }
   ],
   "source": [
    "model = SVC()\n",
    "model.fit(xdef, ydef)\n",
    "test_predictions=model.predict(xtest)\n",
    "#print(test_predictions)\n",
    "acc=np.mean(test_predictions==ytest)\n",
    "print(acc)"
   ],
   "metadata": {
    "collapsed": false,
    "ExecuteTime": {
     "end_time": "2023-07-16T12:10:32.442678Z",
     "start_time": "2023-07-16T12:08:23.356869300Z"
    }
   }
  },
  {
   "cell_type": "code",
   "execution_count": 6,
   "outputs": [
    {
     "name": "stdout",
     "output_type": "stream",
     "text": [
      "0.9779761904761904\n"
     ]
    }
   ],
   "source": [
    "xdef =preprocessing.normalize(xdef)\n",
    "xtest = preprocessing.normalize(xtest)\n",
    "model = SVC()\n",
    "model.fit(xdef, ydef)\n",
    "test_predictions=model.predict(xtest)\n",
    "#print(test_predictions)\n",
    "acc=np.mean(test_predictions==ytest)\n",
    "print(acc)"
   ],
   "metadata": {
    "collapsed": false,
    "ExecuteTime": {
     "end_time": "2023-07-16T13:28:58.329597Z",
     "start_time": "2023-07-16T13:26:43.993956300Z"
    }
   }
  },
  {
   "cell_type": "code",
   "execution_count": null,
   "outputs": [],
   "source": [
    "model = SVC(kernel='poly')\n",
    "model.fit(xdef, ydef)\n",
    "test_predictions=model.predict(xtest)\n",
    "#print(test_predictions)\n",
    "acc=np.mean(test_predictions==ytest)\n",
    "print(acc)"
   ],
   "metadata": {
    "collapsed": false
   }
  },
  {
   "cell_type": "code",
   "execution_count": 8,
   "outputs": [
    {
     "name": "stdout",
     "output_type": "stream",
     "text": [
      "0.0\n"
     ]
    }
   ],
   "source": [
    "from sklearn.kernel_ridge import KernelRidge\n",
    "xdef =preprocessing.normalize(xdef)\n",
    "xtest = preprocessing.normalize(xtest)\n",
    "model = KernelRidge()\n",
    "model.fit(xdef, ydef)\n",
    "test_predictions=model.predict(xtest)\n",
    "#print(test_predictions)\n",
    "acc=np.mean(test_predictions==ytest)\n",
    "print(acc)"
   ],
   "metadata": {
    "collapsed": false,
    "ExecuteTime": {
     "end_time": "2023-07-16T13:48:32.410625600Z",
     "start_time": "2023-07-16T13:46:16.851162100Z"
    }
   }
  },
  {
   "cell_type": "code",
   "execution_count": 66,
   "outputs": [
    {
     "name": "stdout",
     "output_type": "stream",
     "text": [
      "363777.0937406119\n"
     ]
    }
   ],
   "source": [
    "xdef = xdef.sum()\n",
    "print(xdef)"
   ],
   "metadata": {
    "collapsed": false,
    "ExecuteTime": {
     "end_time": "2023-07-16T14:20:14.220850800Z",
     "start_time": "2023-07-16T14:20:14.209851700Z"
    }
   }
  },
  {
   "cell_type": "code",
   "execution_count": 74,
   "outputs": [
    {
     "name": "stdout",
     "output_type": "stream",
     "text": [
      "0.9748809523809524\n"
     ]
    }
   ],
   "source": [
    "from sklearn.impute import SimpleImputer\n",
    "from sklearn import neighbors\n",
    "imputer = SimpleImputer(missing_values=np.nan, strategy='mean')\n",
    "imputer.fit(xdef)\n",
    "xdef = imputer.transform(xdef)\n",
    "xdef =preprocessing.normalize(xdef)\n",
    "xtest = preprocessing.normalize(xtest)\n",
    "n_neighbors = 5\n",
    "model =  neighbors.KNeighborsClassifier(n_neighbors, weights='distance')\n",
    "model.fit(xdef, ydef)\n",
    "test_predictions=model.predict(xtest)\n",
    "#print(test_predictions)\n",
    "acc=np.mean(test_predictions==ytest)\n",
    "print(acc)"
   ],
   "metadata": {
    "collapsed": false,
    "ExecuteTime": {
     "end_time": "2023-07-16T14:43:25.808142Z",
     "start_time": "2023-07-16T14:43:23.364098500Z"
    }
   }
  },
  {
   "cell_type": "markdown",
   "source": [
    "predict"
   ],
   "metadata": {
    "collapsed": false
   }
  },
  {
   "cell_type": "code",
   "execution_count": 26,
   "outputs": [
    {
     "name": "stdout",
     "output_type": "stream",
     "text": [
      "[2 0 9 ... 3 9 2]\n"
     ]
    }
   ],
   "source": [
    "train = pd.read_csv('test.csv')\n",
    "model = MultinomialNB()\n",
    "model.fit(X, label)\n",
    "test_predictions=model.predict(train)\n",
    "print(test_predictions)\n",
    "\n",
    "result = pd.Series(test_predictions, name=\"Label\")\n",
    "submission = pd.concat([pd.Series(range(1, 28001), name=\"ImageId\"), result], axis=1)\n",
    "submission.to_csv(\"Digit_sub.csv\", index=False)\n"
   ],
   "metadata": {
    "collapsed": false,
    "ExecuteTime": {
     "end_time": "2023-07-16T12:03:50.975029800Z",
     "start_time": "2023-07-16T12:03:49.408029600Z"
    }
   }
  },
  {
   "cell_type": "code",
   "execution_count": 29,
   "outputs": [
    {
     "name": "stdout",
     "output_type": "stream",
     "text": [
      "[2 0 9 ... 3 9 2]\n"
     ]
    }
   ],
   "source": [
    "train = pd.read_csv('test.csv')\n",
    "model = SVC()\n",
    "model.fit(X, label)\n",
    "test_predictions=model.predict(train)\n",
    "print(test_predictions)\n",
    "\n",
    "result = pd.Series(test_predictions, name=\"Label\")\n",
    "submission = pd.concat([pd.Series(range(1, 28001), name=\"ImageId\"), result], axis=1)\n",
    "submission.to_csv(\"Digit_sub.csv\", index=False)\n"
   ],
   "metadata": {
    "collapsed": false,
    "ExecuteTime": {
     "end_time": "2023-07-16T12:22:12.145190Z",
     "start_time": "2023-07-16T12:17:18.447914900Z"
    }
   }
  },
  {
   "cell_type": "code",
   "execution_count": 7,
   "outputs": [
    {
     "name": "stdout",
     "output_type": "stream",
     "text": [
      "[2 0 9 ... 3 9 2]\n"
     ]
    }
   ],
   "source": [
    "train = pd.read_csv('test.csv')\n",
    "model = SVC()\n",
    "\n",
    "X =preprocessing.normalize(X)\n",
    "train = preprocessing.normalize(train)\n",
    "\n",
    "model.fit(X, label)\n",
    "test_predictions=model.predict(train)\n",
    "print(test_predictions)\n",
    "\n",
    "result = pd.Series(test_predictions, name=\"Label\")\n",
    "submission = pd.concat([pd.Series(range(1, 28001), name=\"ImageId\"), result], axis=1)\n",
    "submission.to_csv(\"Digit_sub.csv\", index=False)\n"
   ],
   "metadata": {
    "collapsed": false,
    "ExecuteTime": {
     "end_time": "2023-07-16T13:35:52.925159300Z",
     "start_time": "2023-07-16T13:31:06.685508600Z"
    }
   }
  },
  {
   "cell_type": "code",
   "execution_count": null,
   "outputs": [],
   "source": [],
   "metadata": {
    "collapsed": false
   }
  }
 ],
 "metadata": {
  "kernelspec": {
   "display_name": "Python 3",
   "language": "python",
   "name": "python3"
  },
  "language_info": {
   "codemirror_mode": {
    "name": "ipython",
    "version": 2
   },
   "file_extension": ".py",
   "mimetype": "text/x-python",
   "name": "python",
   "nbconvert_exporter": "python",
   "pygments_lexer": "ipython2",
   "version": "2.7.6"
  }
 },
 "nbformat": 4,
 "nbformat_minor": 0
}
